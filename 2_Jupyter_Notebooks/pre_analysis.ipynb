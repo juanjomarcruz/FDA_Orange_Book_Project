{
 "cells": [
  {
   "cell_type": "markdown",
   "metadata": {},
   "source": [
    "**PRE-ANALYSIS**\n",
    "\n",
    "First of all, we will start exploring our dataset in order to familiarize with the different rows and columns. After this analysis, we will be able to notice whether it is needed or not to clean and transform the available data. Moreover, we will come up with interesting questions that me be answered after analysing it deeply."
   ]
  },
  {
   "cell_type": "code",
   "execution_count": null,
   "metadata": {},
   "outputs": [
    {
     "name": "stderr",
     "output_type": "stream",
     "text": [
      "C:\\Users\\juanj\\AppData\\Local\\Temp\\ipykernel_31480\\1397168680.py:3: DeprecationWarning: \n",
      "Pyarrow will become a required dependency of pandas in the next major release of pandas (pandas 3.0),\n",
      "(to allow more performant data types, such as the Arrow string type, and better interoperability with other libraries)\n",
      "but was not found to be installed on your system.\n",
      "If this would cause problems for you,\n",
      "please provide us feedback at https://github.com/pandas-dev/pandas/issues/54466\n",
      "        \n",
      "  import pandas as pd #data transformation and manipulation\n"
     ]
    }
   ],
   "source": [
    "#Libraries importation\n",
    "\n",
    "import pandas as pd #data transformation and manipulation.\n",
    "pd.set_option(\"display.max_columns\", None) #to display all columns of the dataframe.\n",
    "import numpy as np #to work with python numbers\n",
    "import seaborn as sns #visualizations\n",
    "import matplotlib.pyplot as plt #visualizations"
   ]
  },
  {
   "cell_type": "code",
   "execution_count": 29,
   "metadata": {},
   "outputs": [
    {
     "data": {
      "text/html": [
       "<div>\n",
       "<style scoped>\n",
       "    .dataframe tbody tr th:only-of-type {\n",
       "        vertical-align: middle;\n",
       "    }\n",
       "\n",
       "    .dataframe tbody tr th {\n",
       "        vertical-align: top;\n",
       "    }\n",
       "\n",
       "    .dataframe thead th {\n",
       "        text-align: right;\n",
       "    }\n",
       "</style>\n",
       "<table border=\"1\" class=\"dataframe\">\n",
       "  <thead>\n",
       "    <tr style=\"text-align: right;\">\n",
       "      <th></th>\n",
       "      <th>Appl_Type</th>\n",
       "      <th>Appl_No</th>\n",
       "      <th>Product_No</th>\n",
       "      <th>Exclusivity_Code</th>\n",
       "      <th>Exclusivity_Date</th>\n",
       "    </tr>\n",
       "  </thead>\n",
       "  <tbody>\n",
       "    <tr>\n",
       "      <th>0</th>\n",
       "      <td>N</td>\n",
       "      <td>17031</td>\n",
       "      <td>1</td>\n",
       "      <td>RTO</td>\n",
       "      <td>Jul 13, 2026</td>\n",
       "    </tr>\n",
       "    <tr>\n",
       "      <th>1</th>\n",
       "      <td>N</td>\n",
       "      <td>18680</td>\n",
       "      <td>1</td>\n",
       "      <td>D-193</td>\n",
       "      <td>Jun 28, 2027</td>\n",
       "    </tr>\n",
       "    <tr>\n",
       "      <th>2</th>\n",
       "      <td>N</td>\n",
       "      <td>20263</td>\n",
       "      <td>9</td>\n",
       "      <td>NS</td>\n",
       "      <td>Apr 14, 2026</td>\n",
       "    </tr>\n",
       "    <tr>\n",
       "      <th>3</th>\n",
       "      <td>N</td>\n",
       "      <td>20825</td>\n",
       "      <td>1</td>\n",
       "      <td>M-232</td>\n",
       "      <td>Jan 28, 2025</td>\n",
       "    </tr>\n",
       "    <tr>\n",
       "      <th>4</th>\n",
       "      <td>N</td>\n",
       "      <td>20825</td>\n",
       "      <td>2</td>\n",
       "      <td>M-232</td>\n",
       "      <td>Jan 28, 2025</td>\n",
       "    </tr>\n",
       "  </tbody>\n",
       "</table>\n",
       "</div>"
      ],
      "text/plain": [
       "  Appl_Type  Appl_No  Product_No Exclusivity_Code Exclusivity_Date\n",
       "0         N    17031           1              RTO     Jul 13, 2026\n",
       "1         N    18680           1            D-193     Jun 28, 2027\n",
       "2         N    20263           9               NS     Apr 14, 2026\n",
       "3         N    20825           1            M-232     Jan 28, 2025\n",
       "4         N    20825           2            M-232     Jan 28, 2025"
      ]
     },
     "execution_count": 29,
     "metadata": {},
     "output_type": "execute_result"
    }
   ],
   "source": [
    "#Connection to our dataset, which consists on 3 files in txt format. Each file contains one unique table.\n",
    "\n",
    "df = pd.read_csv(\"../1_Data/Data_Raw/exclusivity_raw.txt\", delimiter=\"~\")\n",
    "df.head()"
   ]
  },
  {
   "cell_type": "code",
   "execution_count": 30,
   "metadata": {},
   "outputs": [
    {
     "data": {
      "text/html": [
       "<div>\n",
       "<style scoped>\n",
       "    .dataframe tbody tr th:only-of-type {\n",
       "        vertical-align: middle;\n",
       "    }\n",
       "\n",
       "    .dataframe tbody tr th {\n",
       "        vertical-align: top;\n",
       "    }\n",
       "\n",
       "    .dataframe thead th {\n",
       "        text-align: right;\n",
       "    }\n",
       "</style>\n",
       "<table border=\"1\" class=\"dataframe\">\n",
       "  <thead>\n",
       "    <tr style=\"text-align: right;\">\n",
       "      <th></th>\n",
       "      <th>Appl_Type</th>\n",
       "      <th>Appl_No</th>\n",
       "      <th>Product_No</th>\n",
       "      <th>Exclusivity_Code</th>\n",
       "      <th>Exclusivity_Date</th>\n",
       "    </tr>\n",
       "  </thead>\n",
       "  <tbody>\n",
       "    <tr>\n",
       "      <th>2411</th>\n",
       "      <td>N</td>\n",
       "      <td>215888</td>\n",
       "      <td>1</td>\n",
       "      <td>GAIN</td>\n",
       "      <td>Apr 26, 2032</td>\n",
       "    </tr>\n",
       "    <tr>\n",
       "      <th>2412</th>\n",
       "      <td>N</td>\n",
       "      <td>218275</td>\n",
       "      <td>1</td>\n",
       "      <td>GAIN</td>\n",
       "      <td>Apr 3, 2034</td>\n",
       "    </tr>\n",
       "    <tr>\n",
       "      <th>2413</th>\n",
       "      <td>N</td>\n",
       "      <td>213004</td>\n",
       "      <td>1</td>\n",
       "      <td>GAIN</td>\n",
       "      <td>Nov 1, 2027</td>\n",
       "    </tr>\n",
       "    <tr>\n",
       "      <th>2414</th>\n",
       "      <td>N</td>\n",
       "      <td>213972</td>\n",
       "      <td>1</td>\n",
       "      <td>GAIN</td>\n",
       "      <td>Oct 25, 2034</td>\n",
       "    </tr>\n",
       "    <tr>\n",
       "      <th>2415</th>\n",
       "      <td>N</td>\n",
       "      <td>217417</td>\n",
       "      <td>1</td>\n",
       "      <td>GAIN</td>\n",
       "      <td>Mar 22, 2033</td>\n",
       "    </tr>\n",
       "  </tbody>\n",
       "</table>\n",
       "</div>"
      ],
      "text/plain": [
       "     Appl_Type  Appl_No  Product_No Exclusivity_Code Exclusivity_Date\n",
       "2411         N   215888           1             GAIN     Apr 26, 2032\n",
       "2412         N   218275           1             GAIN      Apr 3, 2034\n",
       "2413         N   213004           1             GAIN      Nov 1, 2027\n",
       "2414         N   213972           1             GAIN     Oct 25, 2034\n",
       "2415         N   217417           1             GAIN     Mar 22, 2033"
      ]
     },
     "execution_count": 30,
     "metadata": {},
     "output_type": "execute_result"
    }
   ],
   "source": [
    "df.tail()"
   ]
  },
  {
   "cell_type": "code",
   "execution_count": 31,
   "metadata": {},
   "outputs": [
    {
     "name": "stdout",
     "output_type": "stream",
     "text": [
      "The file has 2416 rows and 5 columns\n",
      "<class 'pandas.core.frame.DataFrame'>\n",
      "RangeIndex: 2416 entries, 0 to 2415\n",
      "Data columns (total 5 columns):\n",
      " #   Column            Non-Null Count  Dtype \n",
      "---  ------            --------------  ----- \n",
      " 0   Appl_Type         2416 non-null   object\n",
      " 1   Appl_No           2416 non-null   int64 \n",
      " 2   Product_No        2416 non-null   int64 \n",
      " 3   Exclusivity_Code  2416 non-null   object\n",
      " 4   Exclusivity_Date  2416 non-null   object\n",
      "dtypes: int64(2), object(3)\n",
      "memory usage: 94.5+ KB\n"
     ]
    }
   ],
   "source": [
    "#Lets retrieve more information about this txt file we have just charged (only exclusivities).\n",
    "\n",
    "print(f\"The file has {df.shape[0]} rows and {df.shape[1]} columns\")\n",
    "df.info()"
   ]
  },
  {
   "cell_type": "code",
   "execution_count": null,
   "metadata": {},
   "outputs": [],
   "source": []
  }
 ],
 "metadata": {
  "kernelspec": {
   "display_name": "Python 3",
   "language": "python",
   "name": "python3"
  },
  "language_info": {
   "codemirror_mode": {
    "name": "ipython",
    "version": 3
   },
   "file_extension": ".py",
   "mimetype": "text/x-python",
   "name": "python",
   "nbconvert_exporter": "python",
   "pygments_lexer": "ipython3",
   "version": "3.12.0"
  }
 },
 "nbformat": 4,
 "nbformat_minor": 2
}
